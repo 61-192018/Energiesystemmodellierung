{
 "cells": [
  {
   "cell_type": "code",
   "execution_count": 1,
   "id": "b3bdef3b",
   "metadata": {},
   "outputs": [
    {
     "name": "stdout",
     "output_type": "stream",
     "text": [
      "{'hourly': {'cloud_type': [{'name': 'cloud_cover_total', 'name_original': 'v_n', 'unit_type': 'fraction', 'unit': 'one_eighth'}, {'name': 'cloud_cover_total_index', 'name_original': 'v_n_i', 'unit_type': 'dimensionless', 'unit': 'dimensionless'}, {'name': 'cloud_type_layer1', 'name_original': 'v_s1_cs', 'unit_type': 'dimensionless', 'unit': 'dimensionless'}, {'name': 'cloud_type_layer1_abbreviation', 'name_original': 'v_s1_csa', 'unit_type': 'dimensionless', 'unit': 'dimensionless'}, {'name': 'cloud_height_layer1', 'name_original': 'v_s1_hhs', 'unit_type': 'length_medium', 'unit': 'meter'}, {'name': 'cloud_cover_layer1', 'name_original': 'v_s1_ns', 'unit_type': 'fraction', 'unit': 'one_eighth'}, {'name': 'cloud_type_layer2', 'name_original': 'v_s2_cs', 'unit_type': 'dimensionless', 'unit': 'dimensionless'}, {'name': 'cloud_type_layer2_abbreviation', 'name_original': 'v_s2_csa', 'unit_type': 'dimensionless', 'unit': 'dimensionless'}, {'name': 'cloud_height_layer2', 'name_original': 'v_s2_hhs', 'unit_type': 'length_medium', 'unit': 'meter'}, {'name': 'cloud_cover_layer2', 'name_original': 'v_s2_ns', 'unit_type': 'fraction', 'unit': 'one_eighth'}, {'name': 'cloud_type_layer3', 'name_original': 'v_s3_cs', 'unit_type': 'dimensionless', 'unit': 'dimensionless'}, {'name': 'cloud_type_layer3_abbreviation', 'name_original': 'v_s3_csa', 'unit_type': 'dimensionless', 'unit': 'dimensionless'}, {'name': 'cloud_height_layer3', 'name_original': 'v_s3_hhs', 'unit_type': 'length_medium', 'unit': 'meter'}, {'name': 'cloud_cover_layer3', 'name_original': 'v_s3_ns', 'unit_type': 'fraction', 'unit': 'one_eighth'}, {'name': 'cloud_type_layer4', 'name_original': 'v_s4_cs', 'unit_type': 'dimensionless', 'unit': 'dimensionless'}, {'name': 'cloud_type_layer4_abbreviation', 'name_original': 'v_s4_csa', 'unit_type': 'dimensionless', 'unit': 'dimensionless'}, {'name': 'cloud_height_layer4', 'name_original': 'v_s4_hhs', 'unit_type': 'length_medium', 'unit': 'meter'}, {'name': 'cloud_cover_layer4', 'name_original': 'v_s4_ns', 'unit_type': 'fraction', 'unit': 'one_eighth'}], 'cloudiness': [{'name': 'cloud_cover_total_index', 'name_original': 'v_n_i', 'unit_type': 'dimensionless', 'unit': 'dimensionless'}, {'name': 'cloud_cover_total', 'name_original': 'v_n', 'unit_type': 'fraction', 'unit': 'one_eighth'}], 'dew_point': [{'name': 'temperature_air_mean_2m', 'name_original': 'tt', 'unit_type': 'temperature', 'unit': 'degree_celsius'}, {'name': 'temperature_dew_point_mean_2m', 'name_original': 'td', 'unit_type': 'temperature', 'unit': 'degree_celsius'}], 'moisture': [{'name': 'humidity_absolute', 'name_original': 'absf_std', 'unit_type': 'dimensionless', 'unit': 'dimensionless'}, {'name': 'pressure_vapor', 'name_original': 'vp_std', 'unit_type': 'pressure', 'unit': 'hectopascal'}, {'name': 'temperature_wet_mean_2m', 'name_original': 'tf_std', 'unit_type': 'temperature', 'unit': 'degree_celsius'}, {'name': 'pressure_air_site', 'name_original': 'p_std', 'unit_type': 'pressure', 'unit': 'hectopascal'}, {'name': 'temperature_air_mean_2m', 'name_original': 'tt_std', 'unit_type': 'temperature', 'unit': 'degree_celsius'}, {'name': 'humidity', 'name_original': 'rf_std', 'unit_type': 'fraction', 'unit': 'percent'}, {'name': 'temperature_dew_point_mean_2m', 'name_original': 'td_std', 'unit_type': 'temperature', 'unit': 'degree_celsius'}], 'precipitation': [{'name': 'precipitation_height', 'name_original': 'r1', 'unit_type': 'precipitation', 'unit': 'millimeter'}, {'name': 'precipitation_index', 'name_original': 'rs_ind', 'unit_type': 'dimensionless', 'unit': 'dimensionless'}, {'name': 'precipitation_form', 'name_original': 'wrtr', 'unit_type': 'dimensionless', 'unit': 'dimensionless'}], 'pressure': [{'name': 'pressure_air_sea_level', 'name_original': 'p', 'unit_type': 'pressure', 'unit': 'hectopascal'}, {'name': 'pressure_air_site', 'name_original': 'p0', 'unit_type': 'pressure', 'unit': 'hectopascal'}], 'solar': [{'name': 'end_of_interval', 'name_original': 'end_of_interval', 'unit_type': 'dimensionless', 'unit': 'dimensionless'}, {'name': 'radiation_sky_long_wave', 'name_original': 'atmo_lberg', 'unit_type': 'energy_per_area', 'unit': 'joule_per_square_centimeter'}, {'name': 'radiation_sky_short_wave_diffuse', 'name_original': 'fd_lberg', 'unit_type': 'energy_per_area', 'unit': 'joule_per_square_centimeter'}, {'name': 'radiation_global', 'name_original': 'fg_lberg', 'unit_type': 'energy_per_area', 'unit': 'joule_per_square_centimeter'}, {'name': 'sunshine_duration', 'name_original': 'sd_lberg', 'unit_type': 'time', 'unit': 'minute'}, {'name': 'sun_zenith_angle', 'name_original': 'zenit', 'unit_type': 'angle', 'unit': 'degree'}, {'name': 'true_local_time', 'name_original': 'mess_datum_woz', 'unit_type': 'dimensionless', 'unit': 'dimensionless'}], 'sun': [{'name': 'sunshine_duration', 'name_original': 'sd_so', 'unit_type': 'time', 'unit': 'minute'}], 'temperature_air': [{'name': 'temperature_air_mean_2m', 'name_original': 'tt_tu', 'unit_type': 'temperature', 'unit': 'degree_celsius'}, {'name': 'humidity', 'name_original': 'rf_tu', 'unit_type': 'fraction', 'unit': 'percent'}], 'temperature_soil': [{'name': 'temperature_soil_mean_0_02m', 'name_original': 'v_te002', 'unit_type': 'temperature', 'unit': 'degree_celsius'}, {'name': 'temperature_soil_mean_0_05m', 'name_original': 'v_te005', 'unit_type': 'temperature', 'unit': 'degree_celsius'}, {'name': 'temperature_soil_mean_0_1m', 'name_original': 'v_te010', 'unit_type': 'temperature', 'unit': 'degree_celsius'}, {'name': 'temperature_soil_mean_0_2m', 'name_original': 'v_te020', 'unit_type': 'temperature', 'unit': 'degree_celsius'}, {'name': 'temperature_soil_mean_0_5m', 'name_original': 'v_te050', 'unit_type': 'temperature', 'unit': 'degree_celsius'}, {'name': 'temperature_soil_mean_1m', 'name_original': 'v_te100', 'unit_type': 'temperature', 'unit': 'degree_celsius'}], 'visibility': [{'name': 'visibility_range_index', 'name_original': 'v_vv_i', 'unit_type': 'dimensionless', 'unit': 'dimensionless'}, {'name': 'visibility_range', 'name_original': 'v_vv', 'unit_type': 'length_medium', 'unit': 'meter'}], 'weather_phenomena': [{'name': 'weather', 'name_original': 'ww', 'unit_type': 'dimensionless', 'unit': 'dimensionless'}, {'name': 'weather_text', 'name_original': 'ww_text', 'unit_type': 'dimensionless', 'unit': 'dimensionless'}], 'wind': [{'name': 'wind_speed', 'name_original': 'f', 'unit_type': 'speed', 'unit': 'meter_per_second'}, {'name': 'wind_direction', 'name_original': 'd', 'unit_type': 'angle', 'unit': 'degree'}], 'wind_extreme': [{'name': 'wind_gust_max', 'name_original': 'fx_911', 'unit_type': 'speed', 'unit': 'meter_per_second'}], 'wind_synoptic': [{'name': 'wind_speed', 'name_original': 'ff', 'unit_type': 'speed', 'unit': 'meter_per_second'}, {'name': 'wind_direction', 'name_original': 'dd', 'unit_type': 'angle', 'unit': 'degree'}], 'urban_precipitation': [{'name': 'precipitation_height', 'name_original': 'niederschlagshoehe', 'unit_type': 'precipitation', 'unit': 'millimeter'}], 'urban_pressure': [{'name': 'pressure_air_sea_level', 'name_original': 'luftdruck_nn', 'unit_type': 'pressure', 'unit': 'hectopascal'}, {'name': 'pressure_air_site', 'name_original': 'luftdruck_stationshoehe', 'unit_type': 'pressure', 'unit': 'hectopascal'}], 'urban_sun': [{'name': 'sunshine_duration', 'name_original': 'sonnenscheindauer', 'unit_type': 'time', 'unit': 'minute'}], 'urban_temperature_air': [{'name': 'temperature_air_mean_2m', 'name_original': 'lufttemperatur', 'unit_type': 'temperature', 'unit': 'degree_celsius'}, {'name': 'humidity', 'name_original': 'rel_feuchte', 'unit_type': 'fraction', 'unit': 'percent'}], 'urban_temperature_soil': [{'name': 'temperature_soil_mean_0_05m', 'name_original': 'erdbt_005', 'unit_type': 'temperature', 'unit': 'degree_celsius'}, {'name': 'temperature_soil_mean_0_1m', 'name_original': 'erdbt_010', 'unit_type': 'temperature', 'unit': 'degree_celsius'}, {'name': 'temperature_soil_mean_0_2m', 'name_original': 'erdbt_020', 'unit_type': 'temperature', 'unit': 'degree_celsius'}, {'name': 'temperature_soil_mean_0_5m', 'name_original': 'erdbt_050', 'unit_type': 'temperature', 'unit': 'degree_celsius'}, {'name': 'temperature_soil_mean_1m', 'name_original': 'erdbt_100', 'unit_type': 'temperature', 'unit': 'degree_celsius'}], 'urban_wind': [{'name': 'wind_speed', 'name_original': 'windgeschwindigkeit', 'unit_type': 'speed', 'unit': 'meter_per_second'}, {'name': 'wind_direction', 'name_original': 'windrichtung', 'unit_type': 'angle', 'unit': 'degree'}]}}\n"
     ]
    }
   ],
   "source": [
    "# pip install -u wetterdienst polars\n",
    "from wetterdienst.provider.dwd.observation import DwdObservationRequest\n",
    "\n",
    "# Übersicht aller Parameter\n",
    "available_parameter = DwdObservationRequest.discover(resolutions = \"hourly\")\n",
    "\n",
    "# Parameter anschauen\n",
    "print(available_parameter)"
   ]
  },
  {
   "cell_type": "code",
   "execution_count": 2,
   "id": "07870629",
   "metadata": {},
   "outputs": [
    {
     "name": "stdout",
     "output_type": "stream",
     "text": [
      "shape: (5, 7)\n",
      "┌────────────┬────────────┬─────────────────┬─────────────────────┬──────────────┬───────┬─────────┐\n",
      "│ station_id ┆ resolution ┆ dataset         ┆ parameter           ┆ date         ┆ value ┆ quality │\n",
      "│ ---        ┆ ---        ┆ ---             ┆ ---                 ┆ ---          ┆ ---   ┆ ---     │\n",
      "│ str        ┆ str        ┆ str             ┆ str                 ┆ datetime[μs, ┆ f64   ┆ f64     │\n",
      "│            ┆            ┆                 ┆                     ┆ UTC]         ┆       ┆         │\n",
      "╞════════════╪════════════╪═════════════════╪═════════════════════╪══════════════╪═══════╪═════════╡\n",
      "│ 01048      ┆ daily      ┆ climate_summary ┆ temperature_air_mea ┆ 2023-01-01   ┆ 15.1  ┆ 9.0     │\n",
      "│            ┆            ┆                 ┆ n_2m                ┆ 00:00:00 UTC ┆       ┆         │\n",
      "│ 01048      ┆ daily      ┆ climate_summary ┆ temperature_air_mea ┆ 2023-01-02   ┆ 12.4  ┆ 9.0     │\n",
      "│            ┆            ┆                 ┆ n_2m                ┆ 00:00:00 UTC ┆       ┆         │\n",
      "│ 01048      ┆ daily      ┆ climate_summary ┆ temperature_air_mea ┆ 2023-01-03   ┆ 7.3   ┆ 9.0     │\n",
      "│            ┆            ┆                 ┆ n_2m                ┆ 00:00:00 UTC ┆       ┆         │\n",
      "│ 01048      ┆ daily      ┆ climate_summary ┆ temperature_air_mea ┆ 2023-01-04   ┆ 7.3   ┆ 9.0     │\n",
      "│            ┆            ┆                 ┆ n_2m                ┆ 00:00:00 UTC ┆       ┆         │\n",
      "│ 01048      ┆ daily      ┆ climate_summary ┆ temperature_air_mea ┆ 2023-01-05   ┆ 8.7   ┆ 9.0     │\n",
      "│            ┆            ┆                 ┆ n_2m                ┆ 00:00:00 UTC ┆       ┆         │\n",
      "└────────────┴────────────┴─────────────────┴─────────────────────┴──────────────┴───────┴─────────┘\n",
      "shape: (5, 6)\n",
      "┌────────────┬────────────┬─────────────────┬──────────────────────┬─────────────────────┬─────────┐\n",
      "│ station_id ┆ resolution ┆ dataset         ┆ parameter            ┆ datetime            ┆ celcius │\n",
      "│ ---        ┆ ---        ┆ ---             ┆ ---                  ┆ ---                 ┆ ---     │\n",
      "│ str        ┆ str        ┆ str             ┆ str                  ┆ datetime[μs, UTC]   ┆ f64     │\n",
      "╞════════════╪════════════╪═════════════════╪══════════════════════╪═════════════════════╪═════════╡\n",
      "│ 01048      ┆ daily      ┆ climate_summary ┆ temperature_air_mean ┆ 2023-01-01 00:00:00 ┆ 15.1    │\n",
      "│            ┆            ┆                 ┆ _2m                  ┆ UTC                 ┆         │\n",
      "│ 01048      ┆ daily      ┆ climate_summary ┆ temperature_air_mean ┆ 2023-01-02 00:00:00 ┆ 12.4    │\n",
      "│            ┆            ┆                 ┆ _2m                  ┆ UTC                 ┆         │\n",
      "│ 01048      ┆ daily      ┆ climate_summary ┆ temperature_air_mean ┆ 2023-01-03 00:00:00 ┆ 7.3     │\n",
      "│            ┆            ┆                 ┆ _2m                  ┆ UTC                 ┆         │\n",
      "│ 01048      ┆ daily      ┆ climate_summary ┆ temperature_air_mean ┆ 2023-01-04 00:00:00 ┆ 7.3     │\n",
      "│            ┆            ┆                 ┆ _2m                  ┆ UTC                 ┆         │\n",
      "│ 01048      ┆ daily      ┆ climate_summary ┆ temperature_air_mean ┆ 2023-01-05 00:00:00 ┆ 8.7     │\n",
      "│            ┆            ┆                 ┆ _2m                  ┆ UTC                 ┆         │\n",
      "└────────────┴────────────┴─────────────────┴──────────────────────┴─────────────────────┴─────────┘\n"
     ]
    }
   ],
   "source": [
    "\n",
    "\n",
    "# 1) Parameter auswählen ---\n",
    "# Tageswerte (\"daily\") für Klimazusammenfassung, Niederschlag\n",
    "parameters = (\"daily\", \"climate_summary\", \"temperature_air_mean_2m\")\n",
    "\n",
    "# 2) Anfrage senden\n",
    "req = DwdObservationRequest(\n",
    "    parameters=parameters,\n",
    "    start_date=\"2023-01-01\",\n",
    "    end_date=\"2023-01-10\"\n",
    ")\n",
    "\n",
    "# 3) Station auswählen: \"Freiburg\" - https://www.dwd.de/DE/leistungen/klimadatenweltweit/stationsverzeichnis.html\n",
    "stations = req.filter_by_station_id(station_id=(\"01048\",))\n",
    "\n",
    "# 4) Messwerte laden ---\n",
    "# Wir nehmen die erste Station\n",
    "first_values = next(stations.values.query())\n",
    "temp_freiburg = first_values.df\n",
    "\n",
    "# 5) DataFrame anzeigen ---\n",
    "print(temp_freiburg.head())\n",
    "\n",
    "# 6) Renaming columns, delete column quality\n",
    "\n",
    "temp_freiburg = temp_freiburg.rename({\n",
    "    \"value\": \"celcius\",\n",
    "    \"date\": \"datetime\"\n",
    "})\n",
    "\n",
    "temp_freiburg = temp_freiburg.drop(\"quality\")\n",
    "\n",
    "print(temp_freiburg.head())\n",
    "\n",
    "\n"
   ]
  },
  {
   "cell_type": "code",
   "execution_count": 3,
   "id": "548f5ad4",
   "metadata": {},
   "outputs": [
    {
     "name": "stdout",
     "output_type": "stream",
     "text": [
      "CSV gespeichert unter: dwd data\\freiburg_hourly_temp_2023-01-01_to_2023-06-30.csv\n"
     ]
    }
   ],
   "source": [
    "import os\n",
    "\n",
    "# Ordner für CSV erstellen\n",
    "folder = \"dwd data\"\n",
    "os.makedirs(folder, exist_ok=True)\n",
    "\n",
    "# Dateipfad definieren\n",
    "file_path = os.path.join(folder, \"freiburg_hourly_temp_2023-01-01_to_2023-06-30.csv\")\n",
    "\n",
    "# CSV speichern\n",
    "temp_freiburg.write_csv(file_path)\n",
    "\n",
    "print(f\"CSV gespeichert unter: {file_path}\")\n"
   ]
  },
  {
   "cell_type": "code",
   "execution_count": null,
   "id": "fc53f0ac",
   "metadata": {},
   "outputs": [],
   "source": []
  }
 ],
 "metadata": {
  "kernelspec": {
   "display_name": "Python 3",
   "language": "python",
   "name": "python3"
  },
  "language_info": {
   "codemirror_mode": {
    "name": "ipython",
    "version": 3
   },
   "file_extension": ".py",
   "mimetype": "text/x-python",
   "name": "python",
   "nbconvert_exporter": "python",
   "pygments_lexer": "ipython3",
   "version": "3.13.5"
  }
 },
 "nbformat": 4,
 "nbformat_minor": 5
}
